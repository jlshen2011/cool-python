{
 "cells": [
  {
   "cell_type": "code",
   "execution_count": 1,
   "id": "7abf10c4",
   "metadata": {},
   "outputs": [],
   "source": [
    "import btalib\n",
    "import pandas as pd"
   ]
  },
  {
   "cell_type": "code",
   "execution_count": 5,
   "id": "6a3c4fc3",
   "metadata": {},
   "outputs": [],
   "source": [
    "df = pd.read_csv('https://raw.githubusercontent.com/mementum/bta-lib/master/data/2006-day-001.txt', parse_dates=True, index_col='Date')"
   ]
  },
  {
   "cell_type": "code",
   "execution_count": 6,
   "id": "99c1332c",
   "metadata": {},
   "outputs": [],
   "source": [
    "sma = btalib.sma(df)"
   ]
  },
  {
   "cell_type": "code",
   "execution_count": 7,
   "id": "d7c16d35",
   "metadata": {},
   "outputs": [
    {
     "name": "stdout",
     "output_type": "stream",
     "text": [
      "                    sma\n",
      "Date                   \n",
      "2006-01-02          NaN\n",
      "2006-01-03          NaN\n",
      "2006-01-04          NaN\n",
      "2006-01-05          NaN\n",
      "2006-01-06          NaN\n",
      "...                 ...\n",
      "2006-12-21  2029.800333\n",
      "2006-12-22  2029.961333\n",
      "2006-12-27  2030.773333\n",
      "2006-12-28  2031.545667\n",
      "2006-12-29  2031.730667\n",
      "\n",
      "[255 rows x 1 columns]\n"
     ]
    }
   ],
   "source": [
    "print(sma.df)"
   ]
  },
  {
   "cell_type": "code",
   "execution_count": 8,
   "id": "94b62d7c",
   "metadata": {},
   "outputs": [
    {
     "name": "stdout",
     "output_type": "stream",
     "text": [
      "                    sma\n",
      "Date                   \n",
      "2006-01-02          NaN\n",
      "2006-01-03          NaN\n",
      "2006-01-04          NaN\n",
      "2006-01-05          NaN\n",
      "2006-01-06          NaN\n",
      "...                 ...\n",
      "2006-12-21  2029.800333\n",
      "2006-12-22  2029.961333\n",
      "2006-12-27  2030.773333\n",
      "2006-12-28  2031.545667\n",
      "2006-12-29  2031.730667\n",
      "\n",
      "[255 rows x 1 columns]\n"
     ]
    }
   ],
   "source": [
    "sma_df = btalib.sma(df).df\n",
    "print(sma_df)"
   ]
  },
  {
   "cell_type": "code",
   "execution_count": 9,
   "id": "f16a48fa",
   "metadata": {},
   "outputs": [
    {
     "name": "stdout",
     "output_type": "stream",
     "text": [
      "                  sma\n",
      "Date                 \n",
      "2006-01-02        NaN\n",
      "2006-01-03        NaN\n",
      "2006-01-04        NaN\n",
      "2006-01-05  1815.1700\n",
      "2006-01-06  1823.0050\n",
      "...               ...\n",
      "2006-12-21  2057.6475\n",
      "2006-12-22  2050.5775\n",
      "2006-12-27  2054.8750\n",
      "2006-12-28  2056.3900\n",
      "2006-12-29  2057.3700\n",
      "\n",
      "[255 rows x 1 columns]\n"
     ]
    }
   ],
   "source": [
    "sma = btalib.sma(df, period=4)  # default period is 30, changed to 4\n",
    "print(sma.df)"
   ]
  },
  {
   "cell_type": "code",
   "execution_count": 10,
   "id": "bbed057e",
   "metadata": {},
   "outputs": [
    {
     "name": "stdout",
     "output_type": "stream",
     "text": [
      "                  sma\n",
      "Date                 \n",
      "2006-01-02        NaN\n",
      "2006-01-03        NaN\n",
      "2006-01-04        NaN\n",
      "2006-01-05  1819.8100\n",
      "2006-01-06  1827.4400\n",
      "...               ...\n",
      "2006-12-21  2064.8175\n",
      "2006-12-22  2060.8675\n",
      "2006-12-27  2062.6000\n",
      "2006-12-28  2064.0075\n",
      "2006-12-29  2066.0975\n",
      "\n",
      "[255 rows x 1 columns]\n"
     ]
    }
   ],
   "source": [
    "sma = btalib.sma(df.High, period=4)  # default period is 30, changed to 4\n",
    "print(sma.df)"
   ]
  },
  {
   "cell_type": "code",
   "execution_count": null,
   "id": "522ddced",
   "metadata": {},
   "outputs": [],
   "source": []
  }
 ],
 "metadata": {
  "kernelspec": {
   "display_name": "Python 3 (ipykernel)",
   "language": "python",
   "name": "python3"
  },
  "language_info": {
   "codemirror_mode": {
    "name": "ipython",
    "version": 3
   },
   "file_extension": ".py",
   "mimetype": "text/x-python",
   "name": "python",
   "nbconvert_exporter": "python",
   "pygments_lexer": "ipython3",
   "version": "3.8.12"
  }
 },
 "nbformat": 4,
 "nbformat_minor": 5
}
