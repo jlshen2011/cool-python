{
 "cells": [
  {
   "cell_type": "markdown",
   "id": "dd07c578",
   "metadata": {},
   "source": [
    "# Quick Start"
   ]
  },
  {
   "cell_type": "code",
   "execution_count": 1,
   "id": "d1c19601",
   "metadata": {},
   "outputs": [],
   "source": [
    "import torch\n",
    "from torch import nn\n",
    "from torch.utils.data import DataLoader\n",
    "from torchvision import datasets\n",
    "from torchvision.transforms import ToTensor, Lambda, Compose\n",
    "import matplotlib.pyplot as plt"
   ]
  },
  {
   "cell_type": "code",
   "execution_count": 5,
   "id": "0eb4b08a",
   "metadata": {},
   "outputs": [],
   "source": [
    "# download training data\n",
    "# Download training data from open datasets.\n",
    "train_data = datasets.FashionMNIST(\n",
    "    root=\"data\",\n",
    "    train=True,\n",
    "    download=True,\n",
    "    transform=ToTensor(),\n",
    ")\n",
    "\n",
    "# Download test data from open datasets.\n",
    "test_data = datasets.FashionMNIST(\n",
    "    root=\"data\",\n",
    "    train=False,\n",
    "    download=True,\n",
    "    transform=ToTensor(),\n",
    ")"
   ]
  },
  {
   "cell_type": "code",
   "execution_count": 7,
   "id": "85b732e1",
   "metadata": {},
   "outputs": [
    {
     "name": "stdout",
     "output_type": "stream",
     "text": [
      "torch.Size([64, 1, 28, 28])\n",
      "torch.Size([64]) torch.int64\n"
     ]
    }
   ],
   "source": [
    "# create data loaders\n",
    "batch_size = 64\n",
    "train_dataloader = DataLoader(train_data, batch_size=batch_size)\n",
    "test_dataloader = DataLoader(test_data, batch_size=batch_size)\n",
    "\n",
    "for X, y in test_dataloader:\n",
    "    print(X.shape)\n",
    "    print(y.shape, y.dtype)\n",
    "    break"
   ]
  },
  {
   "cell_type": "code",
   "execution_count": 12,
   "id": "01da9cdc",
   "metadata": {},
   "outputs": [
    {
     "name": "stdout",
     "output_type": "stream",
     "text": [
      "MLP(\n",
      "  (flatten): Flatten(start_dim=1, end_dim=-1)\n",
      "  (linear_relu_stack): Sequential(\n",
      "    (0): Linear(in_features=784, out_features=512, bias=True)\n",
      "    (1): ReLU()\n",
      "    (2): Linear(in_features=512, out_features=512, bias=True)\n",
      "    (3): ReLU()\n",
      "    (4): Linear(in_features=512, out_features=10, bias=True)\n",
      "    (5): ReLU()\n",
      "  )\n",
      ")\n"
     ]
    }
   ],
   "source": [
    "# creating models\n",
    "class MLP(nn.Module):\n",
    "    def __init__(self):\n",
    "        super().__init__()\n",
    "        self.flatten = nn.Flatten()\n",
    "        self.linear_relu_stack = nn.Sequential(\n",
    "            nn.Linear(28 * 28, 512),\n",
    "            nn.ReLU(),\n",
    "            nn.Linear(512, 512),\n",
    "            nn.ReLU(),\n",
    "            nn.Linear(512, 10),\n",
    "            nn.ReLU()\n",
    "        )\n",
    "        \n",
    "    def forward(self, x):\n",
    "        x = self.flatten(x)\n",
    "        logits = self.linear_relu_stack(x)\n",
    "        return logits\n",
    "    \n",
    "model = MLP()\n",
    "print(model)"
   ]
  },
  {
   "cell_type": "code",
   "execution_count": 14,
   "id": "b45ec8d3",
   "metadata": {},
   "outputs": [],
   "source": [
    "# optimize model parameters\n",
    "loss_fn = nn.CrossEntropyLoss()\n",
    "optimizer = torch.optim.SGD(model.parameters(), lr=1e-3)"
   ]
  },
  {
   "cell_type": "code",
   "execution_count": 18,
   "id": "1cbcadce",
   "metadata": {},
   "outputs": [],
   "source": [
    "def train(dataloader, model, loss, optimizer):\n",
    "    size = len(dataloader.dataset)    \n",
    "    for batch, (X, y) in enumerate(dataloader):\n",
    "        pred = model(X)\n",
    "        loss = loss_fn(pred, y)        \n",
    "        optimizer.zero_grad()\n",
    "        loss.backward()\n",
    "        optimizer.step()\n",
    "        \n",
    "        if batch % 100 == 0:\n",
    "            loss, current = loss.item(), batch * len(X)\n",
    "            print(f\"loss: {loss:>7f}  [{current:>5d}/{size:>5d}]\")"
   ]
  },
  {
   "cell_type": "code",
   "execution_count": 19,
   "id": "4443c6f8",
   "metadata": {},
   "outputs": [],
   "source": [
    "def test(dataloader, model, loss_fn):\n",
    "    size = len(dataloader.dataset)\n",
    "    num_batches = len(dataloader)\n",
    "    model.eval()\n",
    "    test_loss, correct = 0, 0\n",
    "    with torch.no_grad():\n",
    "        for X, y in dataloader:\n",
    "            pred = model(X)\n",
    "            test_loss += loss_fn(pred, y).item()\n",
    "            correct += (pred.argmax(1) == y).type(torch.float).sum().item()\n",
    "    test_loss /= num_batches\n",
    "    correct /= size\n",
    "    print(f\"Test Error: \\n Accuracy: {(100*correct):>0.1f}%, Avg loss: {test_loss:>8f} \\n\")"
   ]
  },
  {
   "cell_type": "code",
   "execution_count": 20,
   "id": "266eaa11",
   "metadata": {},
   "outputs": [
    {
     "name": "stdout",
     "output_type": "stream",
     "text": [
      "Epoch 1\n",
      "-------------------------------\n",
      "loss: 2.296008  [    0/60000]\n",
      "loss: 2.292178  [ 6400/60000]\n",
      "loss: 2.283893  [12800/60000]\n",
      "loss: 2.291763  [19200/60000]\n",
      "loss: 2.283356  [25600/60000]\n",
      "loss: 2.242780  [32000/60000]\n",
      "loss: 2.268028  [38400/60000]\n",
      "loss: 2.229088  [44800/60000]\n",
      "loss: 2.225590  [51200/60000]\n",
      "loss: 2.235595  [57600/60000]\n",
      "Test Error: \n",
      " Accuracy: 38.7%, Avg loss: 2.216909 \n",
      "\n",
      "Epoch 2\n",
      "-------------------------------\n",
      "loss: 2.209920  [    0/60000]\n",
      "loss: 2.211812  [ 6400/60000]\n",
      "loss: 2.176525  [12800/60000]\n",
      "loss: 2.209809  [19200/60000]\n",
      "loss: 2.164269  [25600/60000]\n",
      "loss: 2.101141  [32000/60000]\n",
      "loss: 2.169339  [38400/60000]\n",
      "loss: 2.080078  [44800/60000]\n",
      "loss: 2.091931  [51200/60000]\n",
      "loss: 2.116673  [57600/60000]\n",
      "Test Error: \n",
      " Accuracy: 47.5%, Avg loss: 2.070608 \n",
      "\n",
      "Epoch 3\n",
      "-------------------------------\n",
      "loss: 2.075043  [    0/60000]\n",
      "loss: 2.067087  [ 6400/60000]\n",
      "loss: 1.989468  [12800/60000]\n",
      "loss: 2.061678  [19200/60000]\n",
      "loss: 1.954165  [25600/60000]\n",
      "loss: 1.881151  [32000/60000]\n",
      "loss: 2.002635  [38400/60000]\n",
      "loss: 1.846161  [44800/60000]\n",
      "loss: 1.893513  [51200/60000]\n",
      "loss: 1.947240  [57600/60000]\n",
      "Test Error: \n",
      " Accuracy: 55.1%, Avg loss: 1.851835 \n",
      "\n",
      "Epoch 4\n",
      "-------------------------------\n",
      "loss: 1.884374  [    0/60000]\n",
      "loss: 1.858231  [ 6400/60000]\n",
      "loss: 1.732351  [12800/60000]\n",
      "loss: 1.857393  [19200/60000]\n",
      "loss: 1.699956  [25600/60000]\n",
      "loss: 1.634750  [32000/60000]\n",
      "loss: 1.820145  [38400/60000]\n",
      "loss: 1.613052  [44800/60000]\n",
      "loss: 1.701982  [51200/60000]\n",
      "loss: 1.803838  [57600/60000]\n",
      "Test Error: \n",
      " Accuracy: 56.4%, Avg loss: 1.655533 \n",
      "\n",
      "Epoch 5\n",
      "-------------------------------\n",
      "loss: 1.715759  [    0/60000]\n",
      "loss: 1.684011  [ 6400/60000]\n",
      "loss: 1.526753  [12800/60000]\n",
      "loss: 1.699367  [19200/60000]\n",
      "loss: 1.516400  [25600/60000]\n",
      "loss: 1.465979  [32000/60000]\n",
      "loss: 1.693232  [38400/60000]\n",
      "loss: 1.465933  [44800/60000]\n",
      "loss: 1.568103  [51200/60000]\n",
      "loss: 1.714772  [57600/60000]\n",
      "Test Error: \n",
      " Accuracy: 58.7%, Avg loss: 1.526648 \n",
      "\n",
      "Done!\n"
     ]
    }
   ],
   "source": [
    "epochs = 5\n",
    "for t in range(epochs):\n",
    "    print(f\"Epoch {t+1}\\n-------------------------------\")\n",
    "    train(train_dataloader, model, loss_fn, optimizer)\n",
    "    test(test_dataloader, model, loss_fn)\n",
    "print(\"Done!\")"
   ]
  },
  {
   "cell_type": "code",
   "execution_count": 21,
   "id": "d54f787f",
   "metadata": {},
   "outputs": [],
   "source": [
    "# saving and loading models\n",
    "torch.save(model.state_dict(), 'model.pth')"
   ]
  },
  {
   "cell_type": "code",
   "execution_count": 22,
   "id": "f9c1e69d",
   "metadata": {},
   "outputs": [
    {
     "data": {
      "text/plain": [
       "<All keys matched successfully>"
      ]
     },
     "execution_count": 22,
     "metadata": {},
     "output_type": "execute_result"
    }
   ],
   "source": [
    "model = MLP()\n",
    "model.load_state_dict(torch.load('model.pth'))"
   ]
  },
  {
   "cell_type": "code",
   "execution_count": 24,
   "id": "c8cee2a6",
   "metadata": {},
   "outputs": [
    {
     "name": "stdout",
     "output_type": "stream",
     "text": [
      "Predicted: \"Ankle boot\", Actual: \"Ankle boot\"\n"
     ]
    }
   ],
   "source": [
    "classes = [\n",
    "    \"T-shirt/top\",\n",
    "    \"Trouser\",\n",
    "    \"Pullover\",\n",
    "    \"Dress\",\n",
    "    \"Coat\",\n",
    "    \"Sandal\",\n",
    "    \"Shirt\",\n",
    "    \"Sneaker\",\n",
    "    \"Bag\",\n",
    "    \"Ankle boot\",\n",
    "]\n",
    "\n",
    "model.eval()\n",
    "x, y = test_data[0][0], test_data[0][1]\n",
    "with torch.no_grad():\n",
    "    pred = model(x)\n",
    "    predicted, actual = classes[pred[0].argmax(0)], classes[y]\n",
    "    print(f'Predicted: \"{predicted}\", Actual: \"{actual}\"')"
   ]
  }
 ],
 "metadata": {
  "kernelspec": {
   "display_name": "Python 3",
   "language": "python",
   "name": "python3"
  },
  "language_info": {
   "codemirror_mode": {
    "name": "ipython",
    "version": 3
   },
   "file_extension": ".py",
   "mimetype": "text/x-python",
   "name": "python",
   "nbconvert_exporter": "python",
   "pygments_lexer": "ipython3",
   "version": "3.8.11"
  }
 },
 "nbformat": 4,
 "nbformat_minor": 5
}
